{
 "cells": [
  {
   "cell_type": "code",
   "execution_count": 1,
   "id": "ab0773cc",
   "metadata": {},
   "outputs": [
    {
     "name": "stdout",
     "output_type": "stream",
     "text": [
      "Hello world\n"
     ]
    }
   ],
   "source": [
    "print(\"Hello world\")"
   ]
  },
  {
   "cell_type": "code",
   "execution_count": 34,
   "id": "2983d610",
   "metadata": {},
   "outputs": [],
   "source": [
    "import pandas as pd\n",
    "import numpy"
   ]
  },
  {
   "cell_type": "code",
   "execution_count": 35,
   "id": "87509360",
   "metadata": {},
   "outputs": [
    {
     "data": {
      "text/html": [
       "<div>\n",
       "<style scoped>\n",
       "    .dataframe tbody tr th:only-of-type {\n",
       "        vertical-align: middle;\n",
       "    }\n",
       "\n",
       "    .dataframe tbody tr th {\n",
       "        vertical-align: top;\n",
       "    }\n",
       "\n",
       "    .dataframe thead th {\n",
       "        text-align: right;\n",
       "    }\n",
       "</style>\n",
       "<table border=\"1\" class=\"dataframe\">\n",
       "  <thead>\n",
       "    <tr style=\"text-align: right;\">\n",
       "      <th></th>\n",
       "      <th>job_title</th>\n",
       "      <th>hh_title</th>\n",
       "      <th>age</th>\n",
       "      <th>salary</th>\n",
       "      <th>exp. period</th>\n",
       "      <th>title of exp.</th>\n",
       "    </tr>\n",
       "  </thead>\n",
       "  <tbody>\n",
       "    <tr>\n",
       "      <th>0</th>\n",
       "      <td>data analyst</td>\n",
       "      <td>Data analyst</td>\n",
       "      <td>22.0</td>\n",
       "      <td>NaN</td>\n",
       "      <td>2.67</td>\n",
       "      <td>Data Analyst</td>\n",
       "    </tr>\n",
       "    <tr>\n",
       "      <th>1</th>\n",
       "      <td>data analyst</td>\n",
       "      <td>Data Analyst</td>\n",
       "      <td>21.0</td>\n",
       "      <td>NaN</td>\n",
       "      <td>0.83</td>\n",
       "      <td>Junior Data Analyst</td>\n",
       "    </tr>\n",
       "    <tr>\n",
       "      <th>2</th>\n",
       "      <td>data analyst</td>\n",
       "      <td>Data Analyst</td>\n",
       "      <td>30.0</td>\n",
       "      <td>NaN</td>\n",
       "      <td>7.50</td>\n",
       "      <td>Data Analyst</td>\n",
       "    </tr>\n",
       "    <tr>\n",
       "      <th>3</th>\n",
       "      <td>data analyst</td>\n",
       "      <td>Data Analyst</td>\n",
       "      <td>24.0</td>\n",
       "      <td>NaN</td>\n",
       "      <td>4.92</td>\n",
       "      <td>Data Analyst</td>\n",
       "    </tr>\n",
       "    <tr>\n",
       "      <th>4</th>\n",
       "      <td>data analyst</td>\n",
       "      <td>Data Analyst</td>\n",
       "      <td>27.0</td>\n",
       "      <td>450000.0</td>\n",
       "      <td>3.25</td>\n",
       "      <td>Business Intelligence Analyst</td>\n",
       "    </tr>\n",
       "  </tbody>\n",
       "</table>\n",
       "</div>"
      ],
      "text/plain": [
       "      job_title      hh_title   age    salary  exp. period  \\\n",
       "0  data analyst  Data analyst  22.0       NaN         2.67   \n",
       "1  data analyst  Data Analyst  21.0       NaN         0.83   \n",
       "2  data analyst  Data Analyst  30.0       NaN         7.50   \n",
       "3  data analyst  Data Analyst  24.0       NaN         4.92   \n",
       "4  data analyst  Data Analyst  27.0  450000.0         3.25   \n",
       "\n",
       "                   title of exp.  \n",
       "0                   Data Analyst  \n",
       "1            Junior Data Analyst  \n",
       "2                   Data Analyst  \n",
       "3                   Data Analyst  \n",
       "4  Business Intelligence Analyst  "
      ]
     },
     "execution_count": 35,
     "metadata": {},
     "output_type": "execute_result"
    }
   ],
   "source": [
    "df = pandas.read_csv(\"data.csv\",encoding=\"windows-1251\")\n",
    "df.head()"
   ]
  },
  {
   "cell_type": "code",
   "execution_count": 36,
   "id": "e1c983e4",
   "metadata": {},
   "outputs": [
    {
     "name": "stderr",
     "output_type": "stream",
     "text": [
      "C:\\Users\\Rahym\\AppData\\Local\\Temp\\ipykernel_84500\\579237147.py:3: SettingWithCopyWarning: \n",
      "A value is trying to be set on a copy of a slice from a DataFrame\n",
      "\n",
      "See the caveats in the documentation: https://pandas.pydata.org/pandas-docs/stable/user_guide/indexing.html#returning-a-view-versus-a-copy\n",
      "  df_an['age'].fillna((df_an['age'].mean()), inplace=True)\n",
      "C:\\Users\\Rahym\\AppData\\Local\\Temp\\ipykernel_84500\\579237147.py:4: SettingWithCopyWarning: \n",
      "A value is trying to be set on a copy of a slice from a DataFrame\n",
      "\n",
      "See the caveats in the documentation: https://pandas.pydata.org/pandas-docs/stable/user_guide/indexing.html#returning-a-view-versus-a-copy\n",
      "  df_an['salary'].fillna((df_an['salary'].mean()), inplace=True)\n",
      "C:\\Users\\Rahym\\AppData\\Local\\Temp\\ipykernel_84500\\579237147.py:8: SettingWithCopyWarning: \n",
      "A value is trying to be set on a copy of a slice from a DataFrame\n",
      "\n",
      "See the caveats in the documentation: https://pandas.pydata.org/pandas-docs/stable/user_guide/indexing.html#returning-a-view-versus-a-copy\n",
      "  df_ds['age'].fillna((df_ds['age'].mean()), inplace=True)\n",
      "C:\\Users\\Rahym\\AppData\\Local\\Temp\\ipykernel_84500\\579237147.py:9: SettingWithCopyWarning: \n",
      "A value is trying to be set on a copy of a slice from a DataFrame\n",
      "\n",
      "See the caveats in the documentation: https://pandas.pydata.org/pandas-docs/stable/user_guide/indexing.html#returning-a-view-versus-a-copy\n",
      "  df_ds['salary'].fillna((df_ds['salary'].mean()), inplace=True)\n",
      "C:\\Users\\Rahym\\AppData\\Local\\Temp\\ipykernel_84500\\579237147.py:13: SettingWithCopyWarning: \n",
      "A value is trying to be set on a copy of a slice from a DataFrame\n",
      "\n",
      "See the caveats in the documentation: https://pandas.pydata.org/pandas-docs/stable/user_guide/indexing.html#returning-a-view-versus-a-copy\n",
      "  df_en['age'].fillna((df_en['age'].mean()), inplace=True)\n",
      "C:\\Users\\Rahym\\AppData\\Local\\Temp\\ipykernel_84500\\579237147.py:14: SettingWithCopyWarning: \n",
      "A value is trying to be set on a copy of a slice from a DataFrame\n",
      "\n",
      "See the caveats in the documentation: https://pandas.pydata.org/pandas-docs/stable/user_guide/indexing.html#returning-a-view-versus-a-copy\n",
      "  df_en['salary'].fillna((df_en['salary'].mean()), inplace=True)\n",
      "C:\\Users\\Rahym\\AppData\\Local\\Temp\\ipykernel_84500\\579237147.py:18: SettingWithCopyWarning: \n",
      "A value is trying to be set on a copy of a slice from a DataFrame\n",
      "\n",
      "See the caveats in the documentation: https://pandas.pydata.org/pandas-docs/stable/user_guide/indexing.html#returning-a-view-versus-a-copy\n",
      "  df_py['age'].fillna((df_py['age'].mean()), inplace=True)\n",
      "C:\\Users\\Rahym\\AppData\\Local\\Temp\\ipykernel_84500\\579237147.py:19: SettingWithCopyWarning: \n",
      "A value is trying to be set on a copy of a slice from a DataFrame\n",
      "\n",
      "See the caveats in the documentation: https://pandas.pydata.org/pandas-docs/stable/user_guide/indexing.html#returning-a-view-versus-a-copy\n",
      "  df_py['salary'].fillna((df_py['salary'].mean()), inplace=True)\n",
      "C:\\Users\\Rahym\\AppData\\Local\\Temp\\ipykernel_84500\\579237147.py:23: SettingWithCopyWarning: \n",
      "A value is trying to be set on a copy of a slice from a DataFrame\n",
      "\n",
      "See the caveats in the documentation: https://pandas.pydata.org/pandas-docs/stable/user_guide/indexing.html#returning-a-view-versus-a-copy\n",
      "  df_sql['age'].fillna((df_sql['age'].mean()), inplace=True)\n",
      "C:\\Users\\Rahym\\AppData\\Local\\Temp\\ipykernel_84500\\579237147.py:24: SettingWithCopyWarning: \n",
      "A value is trying to be set on a copy of a slice from a DataFrame\n",
      "\n",
      "See the caveats in the documentation: https://pandas.pydata.org/pandas-docs/stable/user_guide/indexing.html#returning-a-view-versus-a-copy\n",
      "  df_sql['salary'].fillna((df_sql['salary'].mean()), inplace=True)\n"
     ]
    },
    {
     "data": {
      "text/html": [
       "<div>\n",
       "<style scoped>\n",
       "    .dataframe tbody tr th:only-of-type {\n",
       "        vertical-align: middle;\n",
       "    }\n",
       "\n",
       "    .dataframe tbody tr th {\n",
       "        vertical-align: top;\n",
       "    }\n",
       "\n",
       "    .dataframe thead th {\n",
       "        text-align: right;\n",
       "    }\n",
       "</style>\n",
       "<table border=\"1\" class=\"dataframe\">\n",
       "  <thead>\n",
       "    <tr style=\"text-align: right;\">\n",
       "      <th></th>\n",
       "      <th>job_title</th>\n",
       "      <th>hh_title</th>\n",
       "      <th>age</th>\n",
       "      <th>salary</th>\n",
       "      <th>exp. period</th>\n",
       "      <th>title of exp.</th>\n",
       "    </tr>\n",
       "  </thead>\n",
       "  <tbody>\n",
       "    <tr>\n",
       "      <th>0</th>\n",
       "      <td>data analyst</td>\n",
       "      <td>Data analyst</td>\n",
       "      <td>22.0</td>\n",
       "      <td>642567.567568</td>\n",
       "      <td>2.67</td>\n",
       "      <td>Data Analyst</td>\n",
       "    </tr>\n",
       "    <tr>\n",
       "      <th>1</th>\n",
       "      <td>data analyst</td>\n",
       "      <td>Data Analyst</td>\n",
       "      <td>21.0</td>\n",
       "      <td>642567.567568</td>\n",
       "      <td>0.83</td>\n",
       "      <td>Junior Data Analyst</td>\n",
       "    </tr>\n",
       "    <tr>\n",
       "      <th>2</th>\n",
       "      <td>data analyst</td>\n",
       "      <td>Data Analyst</td>\n",
       "      <td>30.0</td>\n",
       "      <td>642567.567568</td>\n",
       "      <td>7.50</td>\n",
       "      <td>Data Analyst</td>\n",
       "    </tr>\n",
       "    <tr>\n",
       "      <th>3</th>\n",
       "      <td>data analyst</td>\n",
       "      <td>Data Analyst</td>\n",
       "      <td>24.0</td>\n",
       "      <td>642567.567568</td>\n",
       "      <td>4.92</td>\n",
       "      <td>Data Analyst</td>\n",
       "    </tr>\n",
       "    <tr>\n",
       "      <th>4</th>\n",
       "      <td>data analyst</td>\n",
       "      <td>Data Analyst</td>\n",
       "      <td>27.0</td>\n",
       "      <td>450000.000000</td>\n",
       "      <td>3.25</td>\n",
       "      <td>Business Intelligence Analyst</td>\n",
       "    </tr>\n",
       "  </tbody>\n",
       "</table>\n",
       "</div>"
      ],
      "text/plain": [
       "      job_title      hh_title   age         salary  exp. period  \\\n",
       "0  data analyst  Data analyst  22.0  642567.567568         2.67   \n",
       "1  data analyst  Data Analyst  21.0  642567.567568         0.83   \n",
       "2  data analyst  Data Analyst  30.0  642567.567568         7.50   \n",
       "3  data analyst  Data Analyst  24.0  642567.567568         4.92   \n",
       "4  data analyst  Data Analyst  27.0  450000.000000         3.25   \n",
       "\n",
       "                   title of exp.  \n",
       "0                   Data Analyst  \n",
       "1            Junior Data Analyst  \n",
       "2                   Data Analyst  \n",
       "3                   Data Analyst  \n",
       "4  Business Intelligence Analyst  "
      ]
     },
     "execution_count": 36,
     "metadata": {},
     "output_type": "execute_result"
    }
   ],
   "source": [
    "df_an = df.loc[(df['job_title'] == 'data analyst')]\n",
    "\n",
    "df_an['age'].fillna((df_an['age'].mean()), inplace=True)\n",
    "df_an['salary'].fillna((df_an['salary'].mean()), inplace=True)\n",
    "\n",
    "df_ds = df.loc[(df['job_title'] == 'data scientist')]\n",
    "\n",
    "df_ds['age'].fillna((df_ds['age'].mean()), inplace=True)\n",
    "df_ds['salary'].fillna((df_ds['salary'].mean()), inplace=True)\n",
    "\n",
    "df_en = df.loc[(df['job_title'] == 'data engineer')]\n",
    "\n",
    "df_en['age'].fillna((df_en['age'].mean()), inplace=True)\n",
    "df_en['salary'].fillna((df_en['salary'].mean()), inplace=True)\n",
    "\n",
    "df_py = df.loc[(df['job_title'] == 'python')]\n",
    "\n",
    "df_py['age'].fillna((df_py['age'].mean()), inplace=True)\n",
    "df_py['salary'].fillna((df_py['salary'].mean()), inplace=True)\n",
    "\n",
    "df_sql = df.loc[(df['job_title'] == 'sql')]\n",
    "\n",
    "df_sql['age'].fillna((df_sql['age'].mean()), inplace=True)\n",
    "df_sql['salary'].fillna((df_sql['salary'].mean()), inplace=True)\n",
    "\n",
    "bdf = pd.concat([df_an, df_ds, df_en, df_py, df_sql])\n",
    "bdf.head()"
   ]
  },
  {
   "cell_type": "code",
   "execution_count": null,
   "id": "3577d34f",
   "metadata": {},
   "outputs": [],
   "source": [
    "# Мы будем работать только со столбцами ['job_title', 'age', 'salary', 'exp. period']. Сохраните только их.\n"
   ]
  },
  {
   "cell_type": "code",
   "execution_count": 37,
   "id": "9a0eded1",
   "metadata": {},
   "outputs": [
    {
     "data": {
      "text/html": [
       "<div>\n",
       "<style scoped>\n",
       "    .dataframe tbody tr th:only-of-type {\n",
       "        vertical-align: middle;\n",
       "    }\n",
       "\n",
       "    .dataframe tbody tr th {\n",
       "        vertical-align: top;\n",
       "    }\n",
       "\n",
       "    .dataframe thead th {\n",
       "        text-align: right;\n",
       "    }\n",
       "</style>\n",
       "<table border=\"1\" class=\"dataframe\">\n",
       "  <thead>\n",
       "    <tr style=\"text-align: right;\">\n",
       "      <th></th>\n",
       "      <th>job_title</th>\n",
       "      <th>age</th>\n",
       "      <th>salary</th>\n",
       "      <th>exp. period</th>\n",
       "    </tr>\n",
       "  </thead>\n",
       "  <tbody>\n",
       "    <tr>\n",
       "      <th>0</th>\n",
       "      <td>data analyst</td>\n",
       "      <td>22.0</td>\n",
       "      <td>642567.567568</td>\n",
       "      <td>2.67</td>\n",
       "    </tr>\n",
       "    <tr>\n",
       "      <th>1</th>\n",
       "      <td>data analyst</td>\n",
       "      <td>21.0</td>\n",
       "      <td>642567.567568</td>\n",
       "      <td>0.83</td>\n",
       "    </tr>\n",
       "    <tr>\n",
       "      <th>2</th>\n",
       "      <td>data analyst</td>\n",
       "      <td>30.0</td>\n",
       "      <td>642567.567568</td>\n",
       "      <td>7.50</td>\n",
       "    </tr>\n",
       "    <tr>\n",
       "      <th>3</th>\n",
       "      <td>data analyst</td>\n",
       "      <td>24.0</td>\n",
       "      <td>642567.567568</td>\n",
       "      <td>4.92</td>\n",
       "    </tr>\n",
       "    <tr>\n",
       "      <th>4</th>\n",
       "      <td>data analyst</td>\n",
       "      <td>27.0</td>\n",
       "      <td>450000.000000</td>\n",
       "      <td>3.25</td>\n",
       "    </tr>\n",
       "  </tbody>\n",
       "</table>\n",
       "</div>"
      ],
      "text/plain": [
       "      job_title   age         salary  exp. period\n",
       "0  data analyst  22.0  642567.567568         2.67\n",
       "1  data analyst  21.0  642567.567568         0.83\n",
       "2  data analyst  30.0  642567.567568         7.50\n",
       "3  data analyst  24.0  642567.567568         4.92\n",
       "4  data analyst  27.0  450000.000000         3.25"
      ]
     },
     "execution_count": 37,
     "metadata": {},
     "output_type": "execute_result"
    }
   ],
   "source": [
    "sdf = bdf[['job_title', 'age', 'salary', 'exp. period']]\n",
    "sdf.head()"
   ]
  },
  {
   "cell_type": "code",
   "execution_count": null,
   "id": "adaedd9b",
   "metadata": {},
   "outputs": [],
   "source": [
    "# Создайте переменную Х, которая содержит данные датасета без столбца 'job_title'.\n"
   ]
  },
  {
   "cell_type": "code",
   "execution_count": 39,
   "id": "915b664b",
   "metadata": {},
   "outputs": [
    {
     "data": {
      "text/html": [
       "<div>\n",
       "<style scoped>\n",
       "    .dataframe tbody tr th:only-of-type {\n",
       "        vertical-align: middle;\n",
       "    }\n",
       "\n",
       "    .dataframe tbody tr th {\n",
       "        vertical-align: top;\n",
       "    }\n",
       "\n",
       "    .dataframe thead th {\n",
       "        text-align: right;\n",
       "    }\n",
       "</style>\n",
       "<table border=\"1\" class=\"dataframe\">\n",
       "  <thead>\n",
       "    <tr style=\"text-align: right;\">\n",
       "      <th></th>\n",
       "      <th>age</th>\n",
       "      <th>salary</th>\n",
       "      <th>exp. period</th>\n",
       "    </tr>\n",
       "  </thead>\n",
       "  <tbody>\n",
       "    <tr>\n",
       "      <th>0</th>\n",
       "      <td>22.000000</td>\n",
       "      <td>642567.567568</td>\n",
       "      <td>2.67</td>\n",
       "    </tr>\n",
       "    <tr>\n",
       "      <th>1</th>\n",
       "      <td>21.000000</td>\n",
       "      <td>642567.567568</td>\n",
       "      <td>0.83</td>\n",
       "    </tr>\n",
       "    <tr>\n",
       "      <th>2</th>\n",
       "      <td>30.000000</td>\n",
       "      <td>642567.567568</td>\n",
       "      <td>7.50</td>\n",
       "    </tr>\n",
       "    <tr>\n",
       "      <th>3</th>\n",
       "      <td>24.000000</td>\n",
       "      <td>642567.567568</td>\n",
       "      <td>4.92</td>\n",
       "    </tr>\n",
       "    <tr>\n",
       "      <th>4</th>\n",
       "      <td>27.000000</td>\n",
       "      <td>450000.000000</td>\n",
       "      <td>3.25</td>\n",
       "    </tr>\n",
       "    <tr>\n",
       "      <th>...</th>\n",
       "      <td>...</td>\n",
       "      <td>...</td>\n",
       "      <td>...</td>\n",
       "    </tr>\n",
       "    <tr>\n",
       "      <th>995</th>\n",
       "      <td>51.000000</td>\n",
       "      <td>513803.750000</td>\n",
       "      <td>25.42</td>\n",
       "    </tr>\n",
       "    <tr>\n",
       "      <th>996</th>\n",
       "      <td>22.000000</td>\n",
       "      <td>513803.750000</td>\n",
       "      <td>1.58</td>\n",
       "    </tr>\n",
       "    <tr>\n",
       "      <th>997</th>\n",
       "      <td>42.000000</td>\n",
       "      <td>513803.750000</td>\n",
       "      <td>9.33</td>\n",
       "    </tr>\n",
       "    <tr>\n",
       "      <th>998</th>\n",
       "      <td>29.605263</td>\n",
       "      <td>513803.750000</td>\n",
       "      <td>16.08</td>\n",
       "    </tr>\n",
       "    <tr>\n",
       "      <th>999</th>\n",
       "      <td>19.000000</td>\n",
       "      <td>513803.750000</td>\n",
       "      <td>0.33</td>\n",
       "    </tr>\n",
       "  </tbody>\n",
       "</table>\n",
       "<p>1000 rows × 3 columns</p>\n",
       "</div>"
      ],
      "text/plain": [
       "           age         salary  exp. period\n",
       "0    22.000000  642567.567568         2.67\n",
       "1    21.000000  642567.567568         0.83\n",
       "2    30.000000  642567.567568         7.50\n",
       "3    24.000000  642567.567568         4.92\n",
       "4    27.000000  450000.000000         3.25\n",
       "..         ...            ...          ...\n",
       "995  51.000000  513803.750000        25.42\n",
       "996  22.000000  513803.750000         1.58\n",
       "997  42.000000  513803.750000         9.33\n",
       "998  29.605263  513803.750000        16.08\n",
       "999  19.000000  513803.750000         0.33\n",
       "\n",
       "[1000 rows x 3 columns]"
      ]
     },
     "execution_count": 39,
     "metadata": {},
     "output_type": "execute_result"
    }
   ],
   "source": [
    "X = sdf.drop('job_title', axis = 1)\n",
    "X"
   ]
  },
  {
   "cell_type": "code",
   "execution_count": null,
   "id": "a78df759",
   "metadata": {},
   "outputs": [],
   "source": [
    "# Создайте переменную y, которая содержит только данные столбца 'job_title'.\n"
   ]
  },
  {
   "cell_type": "code",
   "execution_count": 40,
   "id": "4a266162",
   "metadata": {},
   "outputs": [
    {
     "data": {
      "text/plain": [
       "0      data analyst\n",
       "1      data analyst\n",
       "2      data analyst\n",
       "3      data analyst\n",
       "4      data analyst\n",
       "           ...     \n",
       "995             sql\n",
       "996             sql\n",
       "997             sql\n",
       "998             sql\n",
       "999             sql\n",
       "Name: job_title, Length: 1000, dtype: object"
      ]
     },
     "execution_count": 40,
     "metadata": {},
     "output_type": "execute_result"
    }
   ],
   "source": [
    "y = sdf['job_title']\n",
    "y"
   ]
  },
  {
   "cell_type": "code",
   "execution_count": null,
   "id": "d6737315",
   "metadata": {},
   "outputs": [],
   "source": [
    "# Разделите датасеты Х и у на тренировочные и тестовые, где train_size будет равен 80%. На забудьте использовать функцию stratify.\n"
   ]
  },
  {
   "cell_type": "code",
   "execution_count": 41,
   "id": "349c519c",
   "metadata": {},
   "outputs": [
    {
     "data": {
      "text/html": [
       "<div>\n",
       "<style scoped>\n",
       "    .dataframe tbody tr th:only-of-type {\n",
       "        vertical-align: middle;\n",
       "    }\n",
       "\n",
       "    .dataframe tbody tr th {\n",
       "        vertical-align: top;\n",
       "    }\n",
       "\n",
       "    .dataframe thead th {\n",
       "        text-align: right;\n",
       "    }\n",
       "</style>\n",
       "<table border=\"1\" class=\"dataframe\">\n",
       "  <thead>\n",
       "    <tr style=\"text-align: right;\">\n",
       "      <th></th>\n",
       "      <th>age</th>\n",
       "      <th>salary</th>\n",
       "      <th>exp. period</th>\n",
       "    </tr>\n",
       "  </thead>\n",
       "  <tbody>\n",
       "    <tr>\n",
       "      <th>527</th>\n",
       "      <td>24.0</td>\n",
       "      <td>652142.857143</td>\n",
       "      <td>2.83</td>\n",
       "    </tr>\n",
       "    <tr>\n",
       "      <th>405</th>\n",
       "      <td>31.0</td>\n",
       "      <td>600000.000000</td>\n",
       "      <td>13.17</td>\n",
       "    </tr>\n",
       "    <tr>\n",
       "      <th>936</th>\n",
       "      <td>30.0</td>\n",
       "      <td>513803.750000</td>\n",
       "      <td>7.67</td>\n",
       "    </tr>\n",
       "    <tr>\n",
       "      <th>979</th>\n",
       "      <td>26.0</td>\n",
       "      <td>200000.000000</td>\n",
       "      <td>2.75</td>\n",
       "    </tr>\n",
       "    <tr>\n",
       "      <th>333</th>\n",
       "      <td>28.0</td>\n",
       "      <td>490375.000000</td>\n",
       "      <td>3.50</td>\n",
       "    </tr>\n",
       "  </tbody>\n",
       "</table>\n",
       "</div>"
      ],
      "text/plain": [
       "      age         salary  exp. period\n",
       "527  24.0  652142.857143         2.83\n",
       "405  31.0  600000.000000        13.17\n",
       "936  30.0  513803.750000         7.67\n",
       "979  26.0  200000.000000         2.75\n",
       "333  28.0  490375.000000         3.50"
      ]
     },
     "execution_count": 41,
     "metadata": {},
     "output_type": "execute_result"
    }
   ],
   "source": [
    "from sklearn.model_selection import train_test_split\n",
    "\n",
    "Xtrain, Xtest, ytrain, ytest = train_test_split(X, y, random_state = 0, train_size = 0.8, stratify = y)\n",
    "Xtrain.head()\n"
   ]
  },
  {
   "cell_type": "code",
   "execution_count": null,
   "id": "b1f05a49",
   "metadata": {},
   "outputs": [],
   "source": [
    "# Oбучите сначала модель с помощью алгоритма GaussianNB.\n"
   ]
  },
  {
   "cell_type": "code",
   "execution_count": 42,
   "id": "9732253b",
   "metadata": {},
   "outputs": [],
   "source": [
    "from sklearn.naive_bayes import GaussianNB\n",
    "\n",
    "model = GaussianNB()\n",
    "model.fit(Xtrain, ytrain)\n",
    "\n",
    "y_model = model.predict(Xtest)"
   ]
  },
  {
   "cell_type": "code",
   "execution_count": null,
   "id": "de00d71c",
   "metadata": {},
   "outputs": [],
   "source": [
    "# Протестируйте обученную модель на тестовых данных, и выведите на экран точность модели.\n"
   ]
  },
  {
   "cell_type": "code",
   "execution_count": 45,
   "id": "4920503f",
   "metadata": {},
   "outputs": [
    {
     "data": {
      "text/plain": [
       "0.565"
      ]
     },
     "execution_count": 45,
     "metadata": {},
     "output_type": "execute_result"
    }
   ],
   "source": [
    "from sklearn.metrics import accuracy_score\n",
    "\n",
    "accuracy_score(ytest, y_model)\n"
   ]
  },
  {
   "cell_type": "code",
   "execution_count": null,
   "id": "0b9d20f5",
   "metadata": {},
   "outputs": [],
   "source": [
    "# Используйте перекрестную проверку модели. Разбейте данные на десять групп и по очереди \n",
    "# используйте каждую из них для оценки обучения модели. Выведите на экран среднюю точность модели."
   ]
  },
  {
   "cell_type": "code",
   "execution_count": 46,
   "id": "2f281110",
   "metadata": {},
   "outputs": [
    {
     "data": {
      "text/plain": [
       "0.535"
      ]
     },
     "execution_count": 46,
     "metadata": {},
     "output_type": "execute_result"
    }
   ],
   "source": [
    "from sklearn.model_selection import cross_val_score\n",
    "\n",
    "scores = cross_val_score(model, X, y, cv = 10)\n",
    "scores.mean()"
   ]
  },
  {
   "cell_type": "code",
   "execution_count": null,
   "id": "39d5bd27",
   "metadata": {},
   "outputs": [],
   "source": [
    "# Затем обучите модель с помощью алгоритма KNeighborsClassifier с количеством n_neighbors равным 3.\n"
   ]
  },
  {
   "cell_type": "code",
   "execution_count": 47,
   "id": "1ca2b14d",
   "metadata": {},
   "outputs": [],
   "source": [
    "from sklearn.neighbors import KNeighborsClassifier\n",
    "\n",
    "model_2 = KNeighborsClassifier(n_neighbors = 3)\n",
    "model_2.fit(X, y)\n",
    "\n",
    "y_model_2 = model_2.predict(X)"
   ]
  },
  {
   "cell_type": "code",
   "execution_count": null,
   "id": "d2919619",
   "metadata": {},
   "outputs": [],
   "source": [
    "# Протестируйте обученную модель на тестовых данных, и выведите на экран точность модели.\n"
   ]
  },
  {
   "cell_type": "code",
   "execution_count": 48,
   "id": "f2afc6d2",
   "metadata": {},
   "outputs": [
    {
     "data": {
      "text/plain": [
       "0.985"
      ]
     },
     "execution_count": 48,
     "metadata": {},
     "output_type": "execute_result"
    }
   ],
   "source": [
    "accuracy_score(y, y_model_2)\n"
   ]
  },
  {
   "cell_type": "code",
   "execution_count": null,
   "id": "a5ed44b7",
   "metadata": {},
   "outputs": [],
   "source": [
    "# Используйте перекрестную проверку модели. Разбейте данные на десять групп и по очереди \n",
    "# используйте каждую из них для оценки обучения модели. Выведите на экран среднюю точность модели"
   ]
  },
  {
   "cell_type": "code",
   "execution_count": 49,
   "id": "abcfdcb1",
   "metadata": {},
   "outputs": [
    {
     "data": {
      "text/plain": [
       "0.986"
      ]
     },
     "execution_count": 49,
     "metadata": {},
     "output_type": "execute_result"
    }
   ],
   "source": [
    "from sklearn.model_selection import cross_val_score\n",
    "\n",
    "scores_2 = cross_val_score(model_2, X, y, cv = 10)\n",
    "scores_2.mean()"
   ]
  },
  {
   "cell_type": "code",
   "execution_count": null,
   "id": "3c1c9e5f",
   "metadata": {},
   "outputs": [],
   "source": []
  }
 ],
 "metadata": {
  "kernelspec": {
   "display_name": "Python 3 (ipykernel)",
   "language": "python",
   "name": "python3"
  },
  "language_info": {
   "codemirror_mode": {
    "name": "ipython",
    "version": 3
   },
   "file_extension": ".py",
   "mimetype": "text/x-python",
   "name": "python",
   "nbconvert_exporter": "python",
   "pygments_lexer": "ipython3",
   "version": "3.9.12"
  }
 },
 "nbformat": 4,
 "nbformat_minor": 5
}
